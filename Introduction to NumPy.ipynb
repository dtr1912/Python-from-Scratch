{
 "cells": [
  {
   "cell_type": "markdown",
   "id": "7956c0f4",
   "metadata": {},
   "source": [
    "# <span style=\"color: red;\"> 1. Tính toán trên mảng: Broadcasting</span>"
   ]
  },
  {
   "cell_type": "markdown",
   "id": "94e9df8e",
   "metadata": {},
   "source": [
    "Broadcasting là một tính năng quan trọng trong numpy cho phép thực hiện các phép toán trên các mảng có kích thước khác nhau một cách tự động và linh hoạt \n",
    "Nó cho phép np mở rộng kích thước của một hay nhiều mảng để phù hợp với kích thước của các mảng khác trong phép toán\n"
   ]
  },
  {
   "cell_type": "markdown",
   "id": "e5711974",
   "metadata": {},
   "source": [
    "## Quy tắc mở rộng kích thước và thực hiện phép toán \n",
    "1. Quy tắc 1: Nếu hai mảng có số chiều khác nhau, mảng có số chiều thấp hơn sẽ được mở rộng bằng cách thêm các chiều có kích thước 1 vào đầu mảng\n",
    "2. Quy tắc 2: Nếu kích thước của một chiều trong mảng là 1 và mảng khác có kích thước của chiều tương ứng khác 1, để mở rộng mảng có kích thước 1 sao chép giá trị để phù hợp với kích thước của mảng khác\n",
    "3. Quy tắc 3: Nếu trong các chiều khác nhau của hai mảng, không có chiều nào có kích thước là 1, Numpy sẽ gây lỗi và không thể thực hiện Broadcasting"
   ]
  },
  {
   "cell_type": "code",
   "execution_count": 1,
   "id": "ae7434c4",
   "metadata": {},
   "outputs": [],
   "source": [
    "import numpy as np\n"
   ]
  },
  {
   "cell_type": "markdown",
   "id": "5f81ab2a",
   "metadata": {},
   "source": [
    "### Broadcasting example 1"
   ]
  },
  {
   "cell_type": "code",
   "execution_count": 2,
   "id": "ed179a65",
   "metadata": {},
   "outputs": [],
   "source": [
    "# Khởi tạo một mảng hai chiều numpy có shape (2,3)\n",
    "M = np.ones((2,3))\n",
    "\n",
    "# Khởi tạo mảng một chiều numpy shape (3,)\n",
    "a = np.arange(3)\n"
   ]
  },
  {
   "cell_type": "code",
   "execution_count": 3,
   "id": "70b4a4df",
   "metadata": {},
   "outputs": [
    {
     "data": {
      "text/plain": [
       "(2, 3)"
      ]
     },
     "execution_count": 3,
     "metadata": {},
     "output_type": "execute_result"
    }
   ],
   "source": [
    "M.shape\n"
   ]
  },
  {
   "cell_type": "code",
   "execution_count": 4,
   "id": "1ecac46b",
   "metadata": {},
   "outputs": [
    {
     "data": {
      "text/plain": [
       "(3,)"
      ]
     },
     "execution_count": 4,
     "metadata": {},
     "output_type": "execute_result"
    }
   ],
   "source": [
    "a.shape"
   ]
  },
  {
   "cell_type": "code",
   "execution_count": 5,
   "id": "bea62438",
   "metadata": {},
   "outputs": [
    {
     "data": {
      "text/plain": [
       "array([[1., 2., 3.],\n",
       "       [1., 2., 3.]])"
      ]
     },
     "execution_count": 5,
     "metadata": {},
     "output_type": "execute_result"
    }
   ],
   "source": [
    "# Nhìn vào quy tắc 1: mảng M và a có số chiều khác nhau. \n",
    "# Mảng a có số chiều thấp hơn được đệm bằng cách thêm số chiều 1 vào bên trái shape\n",
    "# Khi đó ta có: a.shape = (1,3), M.shape = (2,3)\n",
    "# Nhìn vào quy tắc 2: kích thước chiều của a và M khác nhau (1#2) \n",
    "# Mở rộng kích thước chiều a.shape = (2,3)\n",
    "M + a"
   ]
  },
  {
   "cell_type": "markdown",
   "id": "bbd2bfab",
   "metadata": {},
   "source": [
    "### Broadcasting example 2"
   ]
  },
  {
   "cell_type": "code",
   "execution_count": 6,
   "id": "ab4ed280",
   "metadata": {},
   "outputs": [],
   "source": [
    "# Khởi tạo mảng một chiều a có shape(3,) sau đó reshape mảng (3,1)\n",
    "a = np.arange(3).reshape((3,1))\n",
    "# Khởi tạo mảng một chiều b (3,)\n",
    "b = np.arange(3)"
   ]
  },
  {
   "cell_type": "code",
   "execution_count": 7,
   "id": "327b4f89",
   "metadata": {},
   "outputs": [
    {
     "data": {
      "text/plain": [
       "array([[0, 1, 2],\n",
       "       [1, 2, 3],\n",
       "       [2, 3, 4]])"
      ]
     },
     "execution_count": 7,
     "metadata": {},
     "output_type": "execute_result"
    }
   ],
   "source": [
    "# Nhìn vào quy tắc 1 : a và b có số chiều khác nhau, b có số chiều nhỏ hơn nên đệm thêm 1 vào bên trái shape\n",
    "# a.shape = (3,1), b.shape = (1,3)\n",
    "# Nhìn vào quy tắc 2: Mảng a và b có kích thước khác nhau ở các chiều tưng ứng\n",
    "# Mở rộng kích thước chiều a.shape = (3,3), M.shape = (3,2)\n",
    "# Nhìn vào quy tắc 3:\n",
    "# (a+b).shape = (3,3)\n",
    "a+b"
   ]
  },
  {
   "cell_type": "markdown",
   "id": "da4760e7",
   "metadata": {},
   "source": [
    "###  Broadcasting example 3\n"
   ]
  },
  {
   "cell_type": "code",
   "execution_count": 8,
   "id": "41d76764",
   "metadata": {},
   "outputs": [],
   "source": [
    "#  Khởi tạo mảng M hai chiều (3,2)\n",
    "M = np.ones((3,2))\n",
    "#  Khởi tạo mảng a 1 chiều (3,)\n",
    "a = np.arange(3)\n",
    "# So sánh với ví dụ 1 ta thấy mảng M được chuyển vị "
   ]
  },
  {
   "cell_type": "code",
   "execution_count": 9,
   "id": "940a1a87",
   "metadata": {},
   "outputs": [],
   "source": [
    "# Nhìn vào quy tắc 1: M và a có số chiều khác nhau => pad thêm chiều 1 vào đầu shape \n",
    "# M.shape = (3,2), a.shape = (1,3)\n",
    "# Nhìn vào quy tắc 2: M và a có kích thước khác nhau ở các chiều tương ứng \n",
    "# Mở rộng kích thước a.shape = (3,3)\n",
    "# Kích thước M.shape = (3,2)\n",
    "# Nhìn vào quy tắc 3: ta thấu M và a có shape khác nhau do đó 2 mảng này tương thích \n",
    "# (M + a): Raise Error\n"
   ]
  },
  {
   "cell_type": "markdown",
   "id": "6287fc38",
   "metadata": {},
   "source": [
    "Note: Thường sẽ có một lỗi thường mắc phải ở đây là bạn có thể tưởng tượng làm cho a và M tương thích bằng cách pad vào bên phải thay vì bên trái, tuy nhiên đây không phải mà cách broadcast hoạt động. Sự sắp xếp linh động có thể hữu ích trong một vài TH nhưng nó sẽ dẫn đến những tiềm ẩn về sự mơ hồ. Nếu bạn muốn pad vào bên phải có thể reshape array "
   ]
  },
  {
   "cell_type": "code",
   "execution_count": 10,
   "id": "24973bd5",
   "metadata": {},
   "outputs": [
    {
     "data": {
      "text/plain": [
       "(3, 1)"
      ]
     },
     "execution_count": 10,
     "metadata": {},
     "output_type": "execute_result"
    }
   ],
   "source": [
    "# reshape array a\n",
    "a[:, np.newaxis].shape"
   ]
  },
  {
   "cell_type": "code",
   "execution_count": 11,
   "id": "e469d136",
   "metadata": {},
   "outputs": [
    {
     "data": {
      "text/plain": [
       "array([[4., 2.],\n",
       "       [4., 2.],\n",
       "       [4., 2.]])"
      ]
     },
     "execution_count": 11,
     "metadata": {},
     "output_type": "execute_result"
    }
   ],
   "source": [
    "M + a[:, np.newaxis].shape"
   ]
  },
  {
   "cell_type": "markdown",
   "id": "bd58545d",
   "metadata": {},
   "source": [
    "## Broadcasting in Practice\n"
   ]
  },
  {
   "cell_type": "markdown",
   "id": "4f24e2a9",
   "metadata": {},
   "source": [
    "### Centering an array \n",
    "(\"Tâm hóa\" một mảng có nghĩa là điều chỉnh các giá trị của mảng sao cho giá trị trung bình của mảng trở thành 0. Thực hiện bằng cách trừ đi giá trị trung bình của mảng từ mỗi phần tử trong mảng)"
   ]
  },
  {
   "cell_type": "code",
   "execution_count": 12,
   "id": "a84a9f81",
   "metadata": {},
   "outputs": [],
   "source": [
    "# Tưởng tượng bạn có 1 mảng có 10 đối tượng mỗi đối tượng bao gồm 3 giá trị\n",
    "# Lưu trữ vào 1 mảng (10,3)\n",
    "X = np.random.random((10,3))"
   ]
  },
  {
   "cell_type": "code",
   "execution_count": 13,
   "id": "1b568693",
   "metadata": {},
   "outputs": [
    {
     "data": {
      "text/plain": [
       "array([0.73456129, 0.4709126 , 0.55721615])"
      ]
     },
     "execution_count": 13,
     "metadata": {},
     "output_type": "execute_result"
    }
   ],
   "source": [
    "# Tính giá trị trung bình của mỗi feature sử dụng mean trên thứ nguyên đầu tiên\n",
    "Xmean = X.mean(0)\n",
    "Xmean"
   ]
  },
  {
   "cell_type": "code",
   "execution_count": 14,
   "id": "177f62aa",
   "metadata": {},
   "outputs": [
    {
     "data": {
      "text/plain": [
       "array([[ 0.1413932 , -0.27844133,  0.29774457],\n",
       "       [ 0.16899986,  0.10223448, -0.4530065 ],\n",
       "       [ 0.04995724,  0.07704882,  0.36601956],\n",
       "       [-0.62396055,  0.28985183, -0.06234341],\n",
       "       [ 0.21515888,  0.46928227,  0.03725359],\n",
       "       [ 0.12246378,  0.11683746,  0.20726963],\n",
       "       [-0.00771681, -0.33904056,  0.03128203],\n",
       "       [-0.09749032,  0.08979974, -0.22911549],\n",
       "       [-0.05759965, -0.15924235,  0.02163397],\n",
       "       [ 0.08879437, -0.36833035, -0.21673795]])"
      ]
     },
     "execution_count": 14,
     "metadata": {},
     "output_type": "execute_result"
    }
   ],
   "source": [
    "# Giờ có thể tâm hóa mảng X theo thứ nguyên đầu tiên bằng cách lấy X - Xmean\n",
    "# Đây chính là phép tính Broadcasting (10,3) và (3,)\n",
    "X_centered = X - Xmean\n",
    "X_centered"
   ]
  },
  {
   "cell_type": "code",
   "execution_count": 15,
   "id": "b20080bd",
   "metadata": {},
   "outputs": [
    {
     "data": {
      "text/plain": [
       "array([-5.55111512e-17,  9.99200722e-17,  0.00000000e+00])"
      ]
     },
     "execution_count": 15,
     "metadata": {},
     "output_type": "execute_result"
    }
   ],
   "source": [
    "# Kiểm tra xem mảng X_certered đã có giá trị trung bình = 0 hay chưa\n",
    "X_centered.mean(0)\n",
    "# Trong phạm vi độ chính xác của máy giá trị trung bình giờ đã bằng 0"
   ]
  },
  {
   "cell_type": "markdown",
   "id": "1ba66ac5",
   "metadata": {},
   "source": [
    "Note: Có thể tâm hóa theo toàn bộ mảng thì giá trị trung bình của mảng bằng 0, tâm hóa theo hàng thì mỗi hàng sẽ có giá trị trung bình bằng 0, tâm hóa theo cột thì mỗi cột sẽ có giá trị trung bình bằng 0"
   ]
  },
  {
   "cell_type": "markdown",
   "id": "dd254335",
   "metadata": {},
   "source": [
    "## Plotting a two-dimentional function\n",
    "Vẽ đồ thị hàm hai chiều: Broadcasting có thể hiển thị hình ảnh dựa trên các chức năng hai chiều \n",
    "Nếu chúng ta muốn định nghĩa một hàm z= f(x,y), broadcast có thể được sử dụng để tính hàm trên lưới"
   ]
  },
  {
   "cell_type": "code",
   "execution_count": 16,
   "id": "61261563",
   "metadata": {},
   "outputs": [],
   "source": [
    "# x và y là hai mảng có giá trị từ 0 đến 5 có 50 bước nhảy\n",
    "x = np.linspace(0,5,50)    #(50,)\n",
    "y = np.linspace(0,5,50)[:, np.newaxis] #(50,1)\n",
    "z = np.sin(x)**10 + np.cos(10 + y*x)*np.cos(x)\n"
   ]
  },
  {
   "cell_type": "code",
   "execution_count": 17,
   "id": "2ed05894",
   "metadata": {},
   "outputs": [],
   "source": [
    "%matplotlib inline\n",
    "import matplotlib.pyplot as plt"
   ]
  },
  {
   "cell_type": "code",
   "execution_count": 18,
   "id": "03924c40",
   "metadata": {},
   "outputs": [
    {
     "data": {
      "image/png": "[encoded data removed]",
      "text/plain": [
       "<Figure size 432x288 with 2 Axes>"
      ]
     },
     "metadata": {
      "needs_background": "light"
     },
     "output_type": "display_data"
    }
   ],
   "source": [
    "plt.imshow(z, origin = 'lower' , extent = [0, 5, 0, 5], cmap = 'viridis')\n",
    "plt.colorbar();"
   ]
  },
  {
   "cell_type": "markdown",
   "id": "f6bb92b1",
   "metadata": {},
   "source": [
    "# <span style=\"color: red;\">2. Comparisons, Masks, and Boolean Logic</span>\n",
    "Masking được sử dụng khi bạn muốn extract, thay đổi, đếm hoặc các thao tác với giá trị trong mảng dựa.\n",
    "Ví dụ: đếm tất các giá trị lớn hơn 1 giá trị nhất định, xóa tất cả cái gí trị outlier trên threshold"
   ]
  },
  {
   "cell_type": "markdown",
   "id": "d0ae13c8",
   "metadata": {},
   "source": [
    "## Comparison Operators as ufunc\n",
    "Numpy có thể thực hiện các toán tử so sánh như < và >. Kết quả trả về là mảng chứa các giá trị Boolean."
   ]
  },
  {
   "cell_type": "code",
   "execution_count": 19,
   "id": "19175b26",
   "metadata": {},
   "outputs": [
    {
     "data": {
      "text/plain": [
       "array([ True,  True,  True, False, False])"
      ]
     },
     "execution_count": 19,
     "metadata": {},
     "output_type": "execute_result"
    }
   ],
   "source": [
    "x = np.arange(5) \n",
    "x < 3"
   ]
  },
  {
   "cell_type": "code",
   "execution_count": 20,
   "id": "d68b01ea",
   "metadata": {},
   "outputs": [
    {
     "data": {
      "text/plain": [
       "array([False, False, False, False,  True])"
      ]
     },
     "execution_count": 20,
     "metadata": {},
     "output_type": "execute_result"
    }
   ],
   "source": [
    "x > 3"
   ]
  },
  {
   "cell_type": "code",
   "execution_count": 21,
   "id": "f8507110",
   "metadata": {},
   "outputs": [
    {
     "data": {
      "text/plain": [
       "array([ True,  True,  True,  True, False])"
      ]
     },
     "execution_count": 21,
     "metadata": {},
     "output_type": "execute_result"
    }
   ],
   "source": [
    "x <= 3 "
   ]
  },
  {
   "cell_type": "code",
   "execution_count": 22,
   "id": "a3036099",
   "metadata": {},
   "outputs": [
    {
     "data": {
      "text/plain": [
       "array([False, False, False,  True,  True])"
      ]
     },
     "execution_count": 22,
     "metadata": {},
     "output_type": "execute_result"
    }
   ],
   "source": [
    "x >= 3"
   ]
  },
  {
   "cell_type": "code",
   "execution_count": 23,
   "id": "acff6c3b",
   "metadata": {},
   "outputs": [
    {
     "data": {
      "text/plain": [
       "array([ True,  True,  True, False,  True])"
      ]
     },
     "execution_count": 23,
     "metadata": {},
     "output_type": "execute_result"
    }
   ],
   "source": [
    "x != 3"
   ]
  },
  {
   "cell_type": "code",
   "execution_count": 24,
   "id": "162ec48f",
   "metadata": {},
   "outputs": [
    {
     "data": {
      "text/plain": [
       "array([False, False, False,  True, False])"
      ]
     },
     "execution_count": 24,
     "metadata": {},
     "output_type": "execute_result"
    }
   ],
   "source": [
    "x == 3"
   ]
  },
  {
   "cell_type": "code",
   "execution_count": 25,
   "id": "91572519",
   "metadata": {},
   "outputs": [
    {
     "data": {
      "text/plain": [
       "array([ True, False,  True, False, False])"
      ]
     },
     "execution_count": 25,
     "metadata": {},
     "output_type": "execute_result"
    }
   ],
   "source": [
    "(2 * x) == (x**2)"
   ]
  },
  {
   "cell_type": "markdown",
   "id": "97edaaeb",
   "metadata": {},
   "source": [
    "## Làm việc với mảng boolean "
   ]
  },
  {
   "cell_type": "code",
   "execution_count": 26,
   "id": "41d4f10e",
   "metadata": {},
   "outputs": [
    {
     "data": {
      "text/plain": [
       "array([[5, 0, 3, 3],\n",
       "       [7, 9, 3, 5],\n",
       "       [2, 4, 7, 6]])"
      ]
     },
     "execution_count": 26,
     "metadata": {},
     "output_type": "execute_result"
    }
   ],
   "source": [
    "\n",
    "rng = np.random.RandomState(0)\n",
    "x = rng.randint(10, size=(3, 4))\n",
    "x"
   ]
  },
  {
   "cell_type": "markdown",
   "id": "13e81bba",
   "metadata": {},
   "source": [
    "### Counting entries\n",
    "Để đếm số giá trị True trong một mảng Boolean sử dụng np.count_nonzero "
   ]
  },
  {
   "cell_type": "code",
   "execution_count": 27,
   "id": "080e46ce",
   "metadata": {},
   "outputs": [
    {
     "data": {
      "text/plain": [
       "8"
      ]
     },
     "execution_count": 27,
     "metadata": {},
     "output_type": "execute_result"
    }
   ],
   "source": [
    "# Có bao nhiêu giá trị nhỏ hơn 6\n",
    "np.count_nonzero(x <6)"
   ]
  },
  {
   "cell_type": "code",
   "execution_count": 28,
   "id": "222bf8ac",
   "metadata": {},
   "outputs": [
    {
     "data": {
      "text/plain": [
       "array([4, 2, 2], dtype=int64)"
      ]
     },
     "execution_count": 28,
     "metadata": {},
     "output_type": "execute_result"
    }
   ],
   "source": [
    "# Có bao nhiêu giá trị nhỏ hơn 6 trên mỗi dòng\n",
    "np.count_nonzero(x < 6, axis = 1)"
   ]
  },
  {
   "cell_type": "code",
   "execution_count": 29,
   "id": "a35091f6",
   "metadata": {},
   "outputs": [
    {
     "data": {
      "text/plain": [
       "True"
      ]
     },
     "execution_count": 29,
     "metadata": {},
     "output_type": "execute_result"
    }
   ],
   "source": [
    "# Có giá nào trong mảng lớn hơn 8 không \n",
    "np.any(x>8)"
   ]
  },
  {
   "cell_type": "code",
   "execution_count": 30,
   "id": "14189dca",
   "metadata": {},
   "outputs": [
    {
     "data": {
      "text/plain": [
       "False"
      ]
     },
     "execution_count": 30,
     "metadata": {},
     "output_type": "execute_result"
    }
   ],
   "source": [
    "# Có giá trị nào bé hơn 0 không?\n",
    "np.any(x<0)"
   ]
  },
  {
   "cell_type": "code",
   "execution_count": 31,
   "id": "4c18e0e6",
   "metadata": {},
   "outputs": [
    {
     "data": {
      "text/plain": [
       "False"
      ]
     },
     "execution_count": 31,
     "metadata": {},
     "output_type": "execute_result"
    }
   ],
   "source": [
    "# có phải tất cả các giá trị đều lớn 10 \n",
    "np.all(x>10)"
   ]
  },
  {
   "cell_type": "code",
   "execution_count": 32,
   "id": "ccb8313b",
   "metadata": {},
   "outputs": [
    {
     "data": {
      "text/plain": [
       "False"
      ]
     },
     "execution_count": 32,
     "metadata": {},
     "output_type": "execute_result"
    }
   ],
   "source": [
    "# có phải tất cả các giá trị đều = 6 \n",
    "np.all(x == 6)\n"
   ]
  },
  {
   "cell_type": "markdown",
   "id": "c5d7aa21",
   "metadata": {},
   "source": [
    "np.all và np.any cũng có thể sử dụng dọc theo các axis"
   ]
  },
  {
   "cell_type": "markdown",
   "id": "4283a90f",
   "metadata": {},
   "source": [
    "### Boolean Operator"
   ]
  },
  {
   "cell_type": "code",
   "execution_count": 33,
   "id": "9aab32a2",
   "metadata": {},
   "outputs": [
    {
     "data": {
      "text/plain": [
       "7"
      ]
     },
     "execution_count": 33,
     "metadata": {},
     "output_type": "execute_result"
    }
   ],
   "source": [
    "np.sum((x > 3) & (x < 10))\n"
   ]
  },
  {
   "cell_type": "raw",
   "id": "1087b4bd",
   "metadata": {},
   "source": [
    "& np.bitwise_and        | np.bitwise_or\n",
    "^ np.bitwise_xor        ~ np.bitwise_not"
   ]
  },
  {
   "cell_type": "markdown",
   "id": "55d4382f",
   "metadata": {},
   "source": [
    "## Boolean Arrays as Masks"
   ]
  },
  {
   "cell_type": "code",
   "execution_count": 34,
   "id": "a0b25211",
   "metadata": {},
   "outputs": [
    {
     "data": {
      "text/plain": [
       "array([[5, 0, 3, 3],\n",
       "       [7, 9, 3, 5],\n",
       "       [2, 4, 7, 6]])"
      ]
     },
     "execution_count": 34,
     "metadata": {},
     "output_type": "execute_result"
    }
   ],
   "source": [
    "x"
   ]
  },
  {
   "cell_type": "code",
   "execution_count": 35,
   "id": "c638214f",
   "metadata": {},
   "outputs": [
    {
     "data": {
      "text/plain": [
       "array([[False,  True,  True,  True],\n",
       "       [False, False,  True, False],\n",
       "       [ True,  True, False, False]])"
      ]
     },
     "execution_count": 35,
     "metadata": {},
     "output_type": "execute_result"
    }
   ],
   "source": [
    "x<5 "
   ]
  },
  {
   "cell_type": "code",
   "execution_count": 36,
   "id": "2ead1e08",
   "metadata": {},
   "outputs": [
    {
     "data": {
      "text/plain": [
       "array([0, 3, 3, 3, 2, 4])"
      ]
     },
     "execution_count": 36,
     "metadata": {},
     "output_type": "execute_result"
    }
   ],
   "source": [
    "x[x<5]\n",
    "# Trả về một mảng 1 chiều với các giá trị thỏa màn điều kiện, các giá trịtại vị trí mà trong mask array True"
   ]
  },
  {
   "cell_type": "markdown",
   "id": "207ca29c",
   "metadata": {},
   "source": [
    "# <span style=\"color: red;\">3. Fancy Indexing</span>\n"
   ]
  },
  {
   "cell_type": "markdown",
   "id": "d0a3b6b2",
   "metadata": {},
   "source": [
    "## Exploring Fancy Indexing\n",
    "Fancy Indexing  cho phép bạn truy cập các phần tử của một mảng bằng cách sử dụng mảng các chỉ số\n",
    "Điều này rất hữu ích khi bạn cần truy cập hoặc thay đổi nhiều phần tử không liên tiếp trong mảng"
   ]
  },
  {
   "cell_type": "code",
   "execution_count": 37,
   "id": "6970e43e",
   "metadata": {},
   "outputs": [
    {
     "data": {
      "text/plain": [
       "array([51, 92, 14, 71, 60, 20, 82, 86, 74, 74])"
      ]
     },
     "execution_count": 37,
     "metadata": {},
     "output_type": "execute_result"
    }
   ],
   "source": [
    "# Khởi tạo randomstate với seed là 42 để tạo ra kết quả ngẫu nhiên có thể lặp lại\n",
    "# Khi bạn khởi tạo RandomState với một seed cụ thể bạn có thể đảm bảo rằng các số ngẫu nhiên sinh ra là giống nhau mỗi lần bạn chạy mã\n",
    "rand = np.random.RandomState(42)\n",
    "# Tảo mảng 1D gồm 10 số nguyên ngẫu nhiên từ 0 đến 99\n",
    "x = rand.randint(100, size =10)\n",
    "x"
   ]
  },
  {
   "cell_type": "code",
   "execution_count": 38,
   "id": "d4319816",
   "metadata": {},
   "outputs": [
    {
     "data": {
      "text/plain": [
       "[71, 86, 14]"
      ]
     },
     "execution_count": 38,
     "metadata": {},
     "output_type": "execute_result"
    }
   ],
   "source": [
    "# Truy cập vào 3 phần tử khác nhau trong mảng\n",
    "[x[3], x[7], x[2]]"
   ]
  },
  {
   "cell_type": "code",
   "execution_count": 39,
   "id": "6f9e4915",
   "metadata": {},
   "outputs": [
    {
     "data": {
      "text/plain": [
       "array([71, 86, 14])"
      ]
     },
     "execution_count": 39,
     "metadata": {},
     "output_type": "execute_result"
    }
   ],
   "source": [
    "# Ngoài ra có thể sử dụng một mảng chỉ mục để có kết quả tương tự\n",
    "ind = [3,7,2]\n",
    "x[ind]"
   ]
  },
  {
   "cell_type": "code",
   "execution_count": 40,
   "id": "ac80595c",
   "metadata": {},
   "outputs": [
    {
     "data": {
      "text/plain": [
       "array([[71, 86],\n",
       "       [60, 20]])"
      ]
     },
     "execution_count": 40,
     "metadata": {},
     "output_type": "execute_result"
    }
   ],
   "source": [
    "# Khi sử dụng fancy indexing, shape của kết quả sẽ phụ thuộc vào hình dạng của các chỉ số được sử dụng để truy cập mảng, chứ không phải là hình dạng của mảng gốc.\n",
    "ind = np.array([[3, 7],\n",
    "              [4,5]])\n",
    "x[ind]"
   ]
  },
  {
   "cell_type": "code",
   "execution_count": 41,
   "id": "81b648ea",
   "metadata": {},
   "outputs": [
    {
     "data": {
      "text/plain": [
       "array([[ 0,  1,  2,  3],\n",
       "       [ 4,  5,  6,  7],\n",
       "       [ 8,  9, 10, 11]])"
      ]
     },
     "execution_count": 41,
     "metadata": {},
     "output_type": "execute_result"
    }
   ],
   "source": [
    "# Fancy indexing có thể làm việc trên nhiều chiều \n",
    "X = np.arange(12).reshape((3,4))\n",
    "X"
   ]
  },
  {
   "cell_type": "code",
   "execution_count": 42,
   "id": "e878e60b",
   "metadata": {},
   "outputs": [
    {
     "data": {
      "text/plain": [
       "array([ 2,  5, 11])"
      ]
     },
     "execution_count": 42,
     "metadata": {},
     "output_type": "execute_result"
    }
   ],
   "source": [
    "row = np.array([0,1,2])\n",
    "col = np.array([2,1,3])\n",
    "X[row,col]"
   ]
  },
  {
   "cell_type": "code",
   "execution_count": 43,
   "id": "00fb8cb8",
   "metadata": {},
   "outputs": [
    {
     "data": {
      "text/plain": [
       "array([[ 2,  1,  3],\n",
       "       [ 6,  5,  7],\n",
       "       [10,  9, 11]])"
      ]
     },
     "execution_count": 43,
     "metadata": {},
     "output_type": "execute_result"
    }
   ],
   "source": [
    "X[row[:, np.newaxis], col]"
   ]
  },
  {
   "cell_type": "markdown",
   "id": "9e58cd9a",
   "metadata": {},
   "source": [
    "Note: fancy indexing luôn trả về giá trị phản ánh hình dạng dc broadcast của các chỉ số thay vì hình dạng của mảng đang được truy cập"
   ]
  },
  {
   "cell_type": "markdown",
   "id": "6b4a161f",
   "metadata": {},
   "source": [
    "## Combined indexing"
   ]
  },
  {
   "cell_type": "code",
   "execution_count": 44,
   "id": "a93ae416",
   "metadata": {},
   "outputs": [
    {
     "data": {
      "text/plain": [
       "array([10,  8,  9])"
      ]
     },
     "execution_count": 44,
     "metadata": {},
     "output_type": "execute_result"
    }
   ],
   "source": [
    "# Kết hợp các chỉ số đơn giản\n",
    "X[2, [2,0,1]]"
   ]
  },
  {
   "cell_type": "code",
   "execution_count": 45,
   "id": "a360952d",
   "metadata": {},
   "outputs": [
    {
     "data": {
      "text/plain": [
       "array([[ 6,  4,  5],\n",
       "       [10,  8,  9]])"
      ]
     },
     "execution_count": 45,
     "metadata": {},
     "output_type": "execute_result"
    }
   ],
   "source": [
    "# Kết hợp với slicing\n",
    "X[1:,[2,0,1]]"
   ]
  },
  {
   "cell_type": "code",
   "execution_count": 46,
   "id": "f2c287c9",
   "metadata": {},
   "outputs": [
    {
     "data": {
      "text/plain": [
       "array([[ 0,  2],\n",
       "       [ 4,  6],\n",
       "       [ 8, 10]])"
      ]
     },
     "execution_count": 46,
     "metadata": {},
     "output_type": "execute_result"
    }
   ],
   "source": [
    "# Kết hợp với masking\n",
    "mask = np.array([1,0,1,0], dtype = bool)\n",
    "# mask chọn các cột 0 và 2 vì True ở các vị trí đó.\n",
    "X[row[:, np.newaxis], mask]"
   ]
  },
  {
   "cell_type": "markdown",
   "id": "83dae0ad",
   "metadata": {},
   "source": [
    "Indexing được kết hợp linh hoạt để truy câppj và thay đổi các giá trị trong mảng"
   ]
  },
  {
   "cell_type": "markdown",
   "id": "848b28fe",
   "metadata": {},
   "source": [
    "## Ví dụ: Chọn các điểm ngẫu nhiên \n",
    "Chọn các tập con của các hàng từ một ma trận. Ví dụ ta có N điểm trong D chiều "
   ]
  },
  {
   "cell_type": "code",
   "execution_count": 47,
   "id": "d17391c5",
   "metadata": {},
   "outputs": [
    {
     "data": {
      "text/plain": [
       "(100, 2)"
      ]
     },
     "execution_count": 47,
     "metadata": {},
     "output_type": "execute_result"
    }
   ],
   "source": [
    "# Định nghĩa giá trị trung bình (mean vector)\n",
    "mean = [0,0]\n",
    "# Định nghĩa ma trận hiệp phương sai (covarience matrix)\n",
    "cov = [[1,2],\n",
    "       [2,5]]\n",
    "# Khởi tạo X từ phân phối chuẩn đa biến với số lượng mẫu là 100\n",
    "X = rand.multivariate_normal(mean,cov, 100)\n",
    "# Với các tham số đã sử dụng (mean vector có 2 phần tử và số lượng mẫu là 100), \n",
    "# Mảng X sẽ có hình dạng (100, 2), nghĩa là nó chứa 100 mẫu, mỗi mẫu có 2 giá trị (tương ứng với 2 biến trong phân phối chuẩn đa biến).\n",
    "X.shape"
   ]
  },
  {
   "cell_type": "code",
   "execution_count": 48,
   "id": "0081ea81",
   "metadata": {},
   "outputs": [
    {
     "data": {
      "text/plain": [
       "<matplotlib.collections.PathCollection at 0x21561f48e80>"
      ]
     },
     "execution_count": 48,
     "metadata": {},
     "output_type": "execute_result"
    },
    {
     "data": {
      "image/png": "[encoded data removed]",
      "text/plain": [
       "<Figure size 432x288 with 1 Axes>"
      ]
     },
     "metadata": {},
     "output_type": "display_data"
    }
   ],
   "source": [
    "%matplotlib inline\n",
    "import matplotlib.pyplot as plt\n",
    "import seaborn as sb\n",
    "\n",
    "sb.set() # for plot styling\n",
    "plt.scatter(X[:,0], X[:, 1])"
   ]
  },
  {
   "cell_type": "code",
   "execution_count": 49,
   "id": "39a3c719",
   "metadata": {},
   "outputs": [
    {
     "data": {
      "text/plain": [
       "array([30, 49, 70,  6, 87, 20, 71, 38, 75, 92, 12, 62, 31, 59, 58, 63, 97,\n",
       "       13, 96, 15])"
      ]
     },
     "execution_count": 49,
     "metadata": {},
     "output_type": "execute_result"
    }
   ],
   "source": [
    "indices = np.random.choice(X.shape[0], 20, replace = False)\n",
    "indices"
   ]
  },
  {
   "cell_type": "code",
   "execution_count": 50,
   "id": "a9632d92",
   "metadata": {},
   "outputs": [
    {
     "data": {
      "text/plain": [
       "(20, 2)"
      ]
     },
     "execution_count": 50,
     "metadata": {},
     "output_type": "execute_result"
    }
   ],
   "source": [
    "selection = X[indices]\n",
    "selection.shape\n"
   ]
  },
  {
   "cell_type": "code",
   "execution_count": 51,
   "id": "95447e9c",
   "metadata": {},
   "outputs": [
    {
     "data": {
      "image/png": "[encoded data removed]",
      "text/plain": [
       "<Figure size 432x288 with 1 Axes>"
      ]
     },
     "metadata": {},
     "output_type": "display_data"
    }
   ],
   "source": [
    "plt.scatter(X[:, 0], X[:, 1], alpha=0.3)\n",
    "plt.scatter(selection[:, 0], selection[:, 1],\n",
    "            facecolor='none', s=200);"
   ]
  },
  {
   "cell_type": "markdown",
   "id": "7ed8eb2c",
   "metadata": {},
   "source": [
    "Kịch bản này thường được sử dụng để phân vùng nhanh các tập dữ liệu, thường cần thiết trong quá trình phân tách train/test để xác thực các mô hình thống kê và trong các phương pháp lấy mẫu để trả lời các câu hỏi thống kê"
   ]
  },
  {
   "cell_type": "markdown",
   "id": "90b5c977",
   "metadata": {},
   "source": [
    "## Thay đổi các giá trị với fancy indexing\n",
    "Fancy indexing có thể truy câppj từng phần của 1 mảng và cũng có thể thay đổi chúng. Ví dụ, chúng ta có một mảng chứa các chỉ mục và chúng ta muốn đặt các mục tương ứng trong mảng thành giá trị nào đó:"
   ]
  },
  {
   "cell_type": "code",
   "execution_count": 52,
   "id": "8418c6a5",
   "metadata": {},
   "outputs": [
    {
     "data": {
      "text/plain": [
       "array([ 0, 99, 99,  3, 99,  5,  6,  7, 99,  9])"
      ]
     },
     "execution_count": 52,
     "metadata": {},
     "output_type": "execute_result"
    }
   ],
   "source": [
    "x = np.arange(10)\n",
    "i = np.array([2, 1,8,4])\n",
    "x[i] = 99 \n",
    "x"
   ]
  },
  {
   "cell_type": "code",
   "execution_count": 53,
   "id": "dea7511d",
   "metadata": {},
   "outputs": [],
   "source": [
    "x[i] -= 10"
   ]
  },
  {
   "cell_type": "code",
   "execution_count": 54,
   "id": "1b5dd626",
   "metadata": {},
   "outputs": [
    {
     "data": {
      "text/plain": [
       "array([ 0, 89, 89,  3, 89,  5,  6,  7, 89,  9])"
      ]
     },
     "execution_count": 54,
     "metadata": {},
     "output_type": "execute_result"
    }
   ],
   "source": [
    "x"
   ]
  },
  {
   "cell_type": "code",
   "execution_count": 55,
   "id": "1cf7aa0c",
   "metadata": {},
   "outputs": [
    {
     "data": {
      "text/plain": [
       "array([6., 0., 0., 0., 0., 0., 0., 0., 0., 0.])"
      ]
     },
     "execution_count": 55,
     "metadata": {},
     "output_type": "execute_result"
    }
   ],
   "source": [
    "# lưu ý việc các chỉ mục được lặp lại kết hợp với các thao tác này có thể gây ra một số kết quả không mong muốn\n",
    "x = np.zeros(10)\n",
    "x[[0,0]] = [4, 6 ]\n",
    "x\n",
    "# Lúc này giá trị 4 đã ở đâu? Kết quả cả thao tác này đầu tiên gán x[0] = 4 sau đó x[0] = 6\n",
    "# Vì vậy lúc này x[0] bắt buộc có giá trị là 6"
   ]
  },
  {
   "cell_type": "code",
   "execution_count": 56,
   "id": "a60f8966",
   "metadata": {},
   "outputs": [
    {
     "data": {
      "text/plain": [
       "array([6., 0., 1., 1., 1., 0., 0., 0., 0., 0.])"
      ]
     },
     "execution_count": 56,
     "metadata": {},
     "output_type": "execute_result"
    }
   ],
   "source": [
    "# Xét một trường hợp khác: \n",
    "i = [2, 3, 3, 4, 4, 4]\n",
    "x[i] += 1\n",
    "x"
   ]
  },
  {
   "cell_type": "markdown",
   "id": "cf52998b",
   "metadata": {},
   "source": [
    "Ta sẽ mong kết quả x[3] = 2, x[4] = 3 là các lần mỗi index lặp lại. Nhưng trong TH này kết quả không như thế? Quá trình diễn ra như sau:\n",
    " - Numpy xác định các giá trị hiện tại tại các chỉ số i trong mảng x\n",
    " - Phép cộng 1 được áp dụng cho các giá trị này\n",
    " - Kết quả của phép cộng được gán trở lại cho các vị trí tương ứng trong x\n",
    "Điều này dẫn đến việc các giá trị tại các chỉ số dược ghi đè mà không tích lũy lại nếu các chỉ số lặp lại. Vì vậy không phải quá trình tăng giá trị được thực hiện nhiều lần mà là quá trình gán giá trị khiến cho các chỉ số lặp lại không được cộng dồn như mong đợi"
   ]
  },
  {
   "cell_type": "code",
   "execution_count": 60,
   "id": "b2f0ef5c",
   "metadata": {},
   "outputs": [
    {
     "data": {
      "text/plain": [
       "array([0., 0., 1., 2., 3., 0., 0., 0., 0., 0.])"
      ]
     },
     "execution_count": 60,
     "metadata": {},
     "output_type": "execute_result"
    }
   ],
   "source": [
    "x = np.zeros(10)\n",
    "\n",
    "# Các chỉ số cần tăng\n",
    "i = [2, 3, 3, 4, 4, 4]\n",
    "\n",
    "# Sử dụng np.add.at để tăng giá trị tại các chỉ số\n",
    "np.add.at(x, i, 1)\n",
    "x"
   ]
  },
  {
   "cell_type": "markdown",
   "id": "0d07522f",
   "metadata": {},
   "source": [
    "np.add.at thực hiện phép cộng tại chỗ (in-place) trên các chỉ số được chỉ định. Đây là cách chúng ta có thể sử dụng nó để giải quyết vấn đề cộng dồn các giá trị tại các chỉ số lặp lại."
   ]
  },
  {
   "cell_type": "markdown",
   "id": "81c32363",
   "metadata": {},
   "source": [
    "## Ví dụ : Binning Data\n",
    "Binning data là một kỹ thuật trong xử lý dữ liệu và phân tích thống kê nhằm chia một tập dữ liệu liên tục thành các khoảng (bins) nhỏ hơn.\n",
    "Kỹ thuật này thường được sử dụng để làm mịn dữ liệu, giảm nhiễu và giúp dễ dành hơn trong việc phân tích và trực quan hóa dũ liệu\n",
    "Ví dụ: Tưởng tượng chúng ta có 1000 giá trị và muốn nhanh chóng tìm ra chúng nằm ở đâu trong 1 mảng các bins \n",
    "Sử dụng ufunc.at "
   ]
  },
  {
   "cell_type": "code",
   "execution_count": 62,
   "id": "e911fd95",
   "metadata": {},
   "outputs": [],
   "source": [
    "np.random.seed(42)\n",
    "x = np.random.randn(100)\n",
    "# compute a histogram by hand\n",
    "bins = np.linspace(-5, 5, 20)\n",
    "# Khởi tạo mảng đếm counts có cùng kích thước và kiểu dữ liệu với mảng bins nhưng tất cả các phần tử đều = 0 \n",
    "# Mảng này sẽ được sử dụng để đếm số lượng phần tử dữ liệu rơi vào mỗi bin\n",
    "counts = np.zeros_like(bins)\n",
    "#Tìm các chỉ số của bins mà các giá trị trong mảng x sẽ rơi vào => phân loại dữ liệu vào bins\n",
    "#np.searchsorted sẽ trả về một mảng các chỉ số cho biết vị trí mà các giá trị của x sẽ được chèn vào để duy trì thứ tự của bins\n",
    "i = np.searchsorted(bins, x)\n",
    "# Cộng 1 vào mỗi bin\n",
    "np.add.at(counts, i, 1)\n"
   ]
  },
  {
   "cell_type": "code",
   "execution_count": 69,
   "id": "a7b1761b",
   "metadata": {},
   "outputs": [
    {
     "data": {
      "image/png": "[encoded data removed]",
      "text/plain": [
       "<Figure size 432x288 with 1 Axes>"
      ]
     },
     "metadata": {},
     "output_type": "display_data"
    }
   ],
   "source": [
    "# plot the results\n",
    "plt.plot(bins, counts, drawstyle='steps');"
   ]
  },
  {
   "cell_type": "code",
   "execution_count": 70,
   "id": "4671c4d6",
   "metadata": {},
   "outputs": [
    {
     "data": {
      "image/png": "[encoded data removed]",
      "text/plain": [
       "<Figure size 432x288 with 1 Axes>"
      ]
     },
     "metadata": {},
     "output_type": "display_data"
    }
   ],
   "source": [
    "# Matplotlib provides the plt.hist() routine, which does the same in a single line:\n",
    "plt.hist(x, bins, histtype='step');"
   ]
  },
  {
   "cell_type": "code",
   "execution_count": 71,
   "id": "eb5f812d",
   "metadata": {},
   "outputs": [
    {
     "name": "stdout",
     "output_type": "stream",
     "text": [
      "NumPy routine:\n",
      "69.8 µs ± 2.05 µs per loop (mean ± std. dev. of 7 runs, 10000 loops each)\n",
      "Custom routine:\n",
      "31.1 µs ± 3.34 µs per loop (mean ± std. dev. of 7 runs, 10000 loops each)\n"
     ]
    }
   ],
   "source": [
    "print(\"NumPy routine:\")\n",
    "%timeit counts, edges = np.histogram(x, bins)\n",
    "\n",
    "print(\"Custom routine:\")\n",
    "%timeit np.add.at(counts, np.searchsorted(bins, x), 1)"
   ]
  },
  {
   "cell_type": "markdown",
   "id": "fcf44869",
   "metadata": {},
   "source": [
    "Thuật toán custom nhanh hơn nhiều lần so với thuật toán được tối ưu hóa trong NumPy! Làm sao có thể? Nếu bạn tìm hiểu sâu về np.histogram mã nguồn (bạn có thể thực hiện việc này trong IPython bằng cách nhập np.histogram??), bạn sẽ thấy rằng nó phức tạp hơn một chút so với thao tác tìm kiếm và đếm đơn giản mà chúng tôi đã thực hiện; điều này là do thuật toán của NumPy linh hoạt hơn và đặc biệt được thiết kế để có hiệu suất tốt hơn khi số lượng điểm dữ liệu trở nên lớn:"
   ]
  },
  {
   "cell_type": "code",
   "execution_count": 72,
   "id": "28ad1b10",
   "metadata": {},
   "outputs": [
    {
     "name": "stdout",
     "output_type": "stream",
     "text": [
      "NumPy routine:\n",
      "143 ms ± 3.65 ms per loop (mean ± std. dev. of 7 runs, 10 loops each)\n",
      "Custom routine:\n",
      "265 ms ± 18.3 ms per loop (mean ± std. dev. of 7 runs, 1 loop each)\n"
     ]
    }
   ],
   "source": [
    "x = np.random.randn(1000000)\n",
    "print(\"NumPy routine:\")\n",
    "%timeit counts, edges = np.histogram(x, bins)\n",
    "\n",
    "print(\"Custom routine:\")\n",
    "%timeit np.add.at(counts, np.searchsorted(bins, x), 1)"
   ]
  },
  {
   "cell_type": "markdown",
   "id": "9ab5d2ea",
   "metadata": {},
   "source": [
    "Điều so sánh này cho thấy hiệu quả thuật toán hầu như không bao giờ là một câu hỏi đơn giản. Thuật toán hiệu quả cho các tập dữ liệu lớn không phải lúc nào cũng là lựa chọn tốt nhất cho các tập dữ liệu nhỏ và ngược lại "
   ]
  },
  {
   "cell_type": "markdown",
   "id": "5d22c4ca",
   "metadata": {},
   "source": [
    "# <span style=\"color: red;\">4. Sorting Arrays</span>\n"
   ]
  },
  {
   "cell_type": "markdown",
   "id": "137fdbaf",
   "metadata": {},
   "source": [
    "Ví dụ, một selection sort đơn giản được lặp lại tìm giá trị nhỏ nhất của 1 list và đổi chỗ cho đến khi list được sắp xếp"
   ]
  },
  {
   "cell_type": "code",
   "execution_count": 73,
   "id": "71d0ee3a",
   "metadata": {},
   "outputs": [],
   "source": [
    "def selection_sort(x):\n",
    "    for i in range(len(x)):\n",
    "        # Tìm chỉ số của phần tử nhỏ nhất trong phần còn lại của mảng\n",
    "        swap = i + np.argmin(x[i:])\n",
    "        # Hoán đổi phần tử thứ i với phần tử nhỏ nhất tìm được\n",
    "        (x[i], x[swap]) = (x[swap], x[i])\n",
    "    return x"
   ]
  },
  {
   "cell_type": "markdown",
   "id": "248581cd",
   "metadata": {},
   "source": [
    "Selection sort đơn giản dễ dùng tuy nhiên khi mảng quá lớn nó sẽ rất chậm. nếu có N giá trị nó sẽ yêu cầu N vòng lặp, trong mỗi vòng lặp yêu cầu N sự so sánh nên khi đó big-O = O[N^2]"
   ]
  },
  {
   "cell_type": "code",
   "execution_count": 74,
   "id": "315b0bb8",
   "metadata": {},
   "outputs": [
    {
     "data": {
      "text/plain": [
       "array([1, 2, 3, 4, 5])"
      ]
     },
     "execution_count": 74,
     "metadata": {},
     "output_type": "execute_result"
    }
   ],
   "source": [
    "# Tuy vậy selection sort vẫn tốt hơn bogosort\n",
    "def bogosort(x):\n",
    "    while np.any(x[:-1] > x[1:]):\n",
    "        np.random.shuffle(x)\n",
    "    return x\n",
    "x = np.array([2, 1, 4, 3, 5])\n",
    "bogosort(x)"
   ]
  },
  {
   "cell_type": "markdown",
   "id": "1aaea1d6",
   "metadata": {},
   "source": [
    "Bogo sort sẽ liên tục áp dụng việc xáo trộn ngẫu nhiên mảng cho đến khi kết quả được sắp xếp với big-O = O[NxN!] => never used for any real computation\n"
   ]
  },
  {
   "cell_type": "markdown",
   "id": "9fffc09e",
   "metadata": {},
   "source": [
    "## Fast Sorting in Numpy\n",
    "#### np.sort và np.argsort"
   ]
  },
  {
   "cell_type": "markdown",
   "id": "02ee6fc9",
   "metadata": {},
   "source": [
    "Mặc dù Python có sẵn các hàm sort và sorted khi làm việc với list nhưng chúng ta sẽ bàn luận về np.sort ở đây\n",
    "Theo mặc định np.sort sử dụng O[NlogN], thuật toán quicksort, mặc dù mergesort và heapsort cũng có sẵn. Đối với hầu hết các ứng dụng, tính năng sắp xếp nhanh mặc định là quá đủ."
   ]
  },
  {
   "cell_type": "code",
   "execution_count": 76,
   "id": "c6ee4fb6",
   "metadata": {},
   "outputs": [
    {
     "data": {
      "text/plain": [
       "array([1, 2, 3, 4, 5])"
      ]
     },
     "execution_count": 76,
     "metadata": {},
     "output_type": "execute_result"
    }
   ],
   "source": [
    "x = np.array([2, 1, 4, 3, 5])\n",
    "np.sort(x)"
   ]
  },
  {
   "cell_type": "code",
   "execution_count": 78,
   "id": "c5394092",
   "metadata": {},
   "outputs": [
    {
     "data": {
      "text/plain": [
       "array([1, 2, 3, 4, 5])"
      ]
     },
     "execution_count": 78,
     "metadata": {},
     "output_type": "execute_result"
    }
   ],
   "source": [
    "x.sort()\n",
    "x"
   ]
  },
  {
   "cell_type": "markdown",
   "id": "d1bd5981",
   "metadata": {},
   "source": [
    "argsort thay vì trả về giá trị của phần tử thì trả về chỉ mục của phần tử"
   ]
  },
  {
   "cell_type": "code",
   "execution_count": 79,
   "id": "6695b5b5",
   "metadata": {},
   "outputs": [
    {
     "data": {
      "text/plain": [
       "array([1, 0, 3, 2, 4], dtype=int64)"
      ]
     },
     "execution_count": 79,
     "metadata": {},
     "output_type": "execute_result"
    }
   ],
   "source": [
    "x = np.array([2, 1, 4, 3, 5])\n",
    "np.argsort(x)"
   ]
  },
  {
   "cell_type": "markdown",
   "id": "90039b1d",
   "metadata": {},
   "source": [
    "### Sorting along rows or columns"
   ]
  },
  {
   "cell_type": "code",
   "execution_count": 82,
   "id": "6183d614",
   "metadata": {},
   "outputs": [
    {
     "data": {
      "text/plain": [
       "array([[6, 3, 7, 4, 6, 9],\n",
       "       [2, 6, 7, 4, 3, 7],\n",
       "       [7, 2, 5, 4, 1, 7],\n",
       "       [5, 1, 4, 0, 9, 5]])"
      ]
     },
     "execution_count": 82,
     "metadata": {},
     "output_type": "execute_result"
    }
   ],
   "source": [
    "rand = np.random.RandomState(42)\n",
    "X = rand.randint(0, 10, (4,6))\n",
    "X"
   ]
  },
  {
   "cell_type": "code",
   "execution_count": 83,
   "id": "4526ae9e",
   "metadata": {},
   "outputs": [
    {
     "data": {
      "text/plain": [
       "array([[2, 1, 4, 0, 1, 5],\n",
       "       [5, 2, 5, 4, 3, 7],\n",
       "       [6, 3, 7, 4, 6, 7],\n",
       "       [7, 6, 7, 4, 9, 9]])"
      ]
     },
     "execution_count": 83,
     "metadata": {},
     "output_type": "execute_result"
    }
   ],
   "source": [
    "# sắp xếp theo cột của X\n",
    "np.sort(X, axis = 0)"
   ]
  },
  {
   "cell_type": "code",
   "execution_count": 84,
   "id": "dcff1fb8",
   "metadata": {},
   "outputs": [
    {
     "data": {
      "text/plain": [
       "array([[3, 4, 6, 6, 7, 9],\n",
       "       [2, 3, 4, 6, 7, 7],\n",
       "       [1, 2, 4, 5, 7, 7],\n",
       "       [0, 1, 4, 5, 5, 9]])"
      ]
     },
     "execution_count": 84,
     "metadata": {},
     "output_type": "execute_result"
    }
   ],
   "source": [
    "# sắp xếp theo hàng X\n",
    "np.sort(X, axis = 1)"
   ]
  },
  {
   "cell_type": "markdown",
   "id": "aa25b68d",
   "metadata": {},
   "source": [
    "## Partial Sorts: Partitioning"
   ]
  },
  {
   "cell_type": "markdown",
   "id": "d056ff4c",
   "metadata": {},
   "source": [
    "Đôi lúc ta sẽ không cần sắp xếp mảng nhưng muốn tìm giá trị k nhỏ nhất trong mảng. Ta sử dụng np.partition \n",
    "np.partition(array,k) trả về mảng có k giá trị bên trái là ba giá trị nhỏ nhất các giá trị còn lại ở bên phải theo thứ tự tùy ý\n"
   ]
  },
  {
   "cell_type": "code",
   "execution_count": 85,
   "id": "51b7fcc1",
   "metadata": {},
   "outputs": [
    {
     "data": {
      "text/plain": [
       "array([2, 1, 3, 4, 6, 5, 7])"
      ]
     },
     "execution_count": 85,
     "metadata": {},
     "output_type": "execute_result"
    }
   ],
   "source": [
    "x = np.array([7, 2, 3, 1, 6, 5, 4])\n",
    "np.partition(x, 3)"
   ]
  },
  {
   "cell_type": "code",
   "execution_count": 86,
   "id": "90ded98a",
   "metadata": {},
   "outputs": [
    {
     "data": {
      "text/plain": [
       "array([[3, 4, 6, 7, 6, 9],\n",
       "       [2, 3, 4, 7, 6, 7],\n",
       "       [1, 2, 4, 5, 7, 7],\n",
       "       [0, 1, 4, 5, 9, 5]])"
      ]
     },
     "execution_count": 86,
     "metadata": {},
     "output_type": "execute_result"
    }
   ],
   "source": [
    "np.partition(X, 2, axis =1)"
   ]
  },
  {
   "cell_type": "code",
   "execution_count": 87,
   "id": "9aee82c6",
   "metadata": {},
   "outputs": [
    {
     "data": {
      "text/plain": [
       "array([[6, 3, 7, 4, 6, 9],\n",
       "       [2, 6, 7, 4, 3, 7],\n",
       "       [7, 2, 5, 4, 1, 7],\n",
       "       [5, 1, 4, 0, 9, 5]])"
      ]
     },
     "execution_count": 87,
     "metadata": {},
     "output_type": "execute_result"
    }
   ],
   "source": [
    "X"
   ]
  },
  {
   "cell_type": "markdown",
   "id": "80037885",
   "metadata": {},
   "source": [
    "Giống như np.argsort, np.argpartition cũng tính toán dựa trên chỉ mục \n",
    "Ta xét ví dụ dưới đây"
   ]
  },
  {
   "cell_type": "markdown",
   "id": "c16af0f5",
   "metadata": {},
   "source": [
    "## Ví dụ : k-Nearest Neighbors"
   ]
  },
  {
   "cell_type": "code",
   "execution_count": 89,
   "id": "50b86b80",
   "metadata": {},
   "outputs": [
    {
     "data": {
      "text/plain": [
       "array([[0.23089383, 0.24102547],\n",
       "       [0.68326352, 0.60999666],\n",
       "       [0.83319491, 0.17336465],\n",
       "       [0.39106061, 0.18223609],\n",
       "       [0.75536141, 0.42515587],\n",
       "       [0.20794166, 0.56770033],\n",
       "       [0.03131329, 0.84228477],\n",
       "       [0.44975413, 0.39515024],\n",
       "       [0.92665887, 0.727272  ],\n",
       "       [0.32654077, 0.57044397]])"
      ]
     },
     "execution_count": 89,
     "metadata": {},
     "output_type": "execute_result"
    }
   ],
   "source": [
    "# Khởi tạo một mảng 2D (10,2)\n",
    "X = rand.rand(10,2)\n",
    "X"
   ]
  },
  {
   "cell_type": "code",
   "execution_count": 91,
   "id": "5da51838",
   "metadata": {},
   "outputs": [
    {
     "data": {
      "text/plain": [
       "<matplotlib.collections.PathCollection at 0x215632983a0>"
      ]
     },
     "execution_count": 91,
     "metadata": {},
     "output_type": "execute_result"
    },
    {
     "data": {
      "image/png": "[encoded data removed]",
      "text/plain": [
       "<Figure size 432x288 with 1 Axes>"
      ]
     },
     "metadata": {},
     "output_type": "display_data"
    }
   ],
   "source": [
    "%matplotlib inline\n",
    "import matplotlib.pyplot as plt\n",
    "import seaborn; seaborn.set() # Plot styling\n",
    "plt.scatter(X[:,0], X[:, 1], s =100)"
   ]
  },
  {
   "cell_type": "code",
   "execution_count": 94,
   "id": "b3d4f1ab",
   "metadata": {},
   "outputs": [
    {
     "data": {
      "text/plain": [
       "(10, 1, 2)"
      ]
     },
     "execution_count": 94,
     "metadata": {},
     "output_type": "execute_result"
    }
   ],
   "source": []
  },
  {
   "cell_type": "code",
   "execution_count": null,
   "id": "2a925f5a",
   "metadata": {},
   "outputs": [],
   "source": []
  }
 ],
 "metadata": {
  "kernelspec": {
   "display_name": "Python 3",
   "language": "python",
   "name": "python3"
  },
  "language_info": {
   "codemirror_mode": {
    "name": "ipython",
    "version": 3
   },
   "file_extension": ".py",
   "mimetype": "text/x-python",
   "name": "python",
   "nbconvert_exporter": "python",
   "pygments_lexer": "ipython3",
   "version": "3.8.8"
  }
 },
 "nbformat": 4,
 "nbformat_minor": 5
}
